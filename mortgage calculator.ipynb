{
 "cells": [
  {
   "cell_type": "code",
   "execution_count": 50,
   "metadata": {},
   "outputs": [],
   "source": [
    "import pandas as pd\n",
    "\n",
    "def calculate_amortization_schedule(apr, monthly_repayment, deposit, total_asset_value):\n",
    "    apr_decimal = apr / 100  # Convert APR to decimal\n",
    "    monthly_rate = apr_decimal / 12  # Monthly interest rate\n",
    "    total_debt = total_asset_value - deposit  # Initial loan amount\n",
    "    \n",
    "    balance = total_debt\n",
    "    month = 0\n",
    "    data = []\n",
    "    \n",
    "    while balance > 0:\n",
    "        interest_payment = balance * monthly_rate\n",
    "        principal_payment = monthly_repayment - interest_payment\n",
    "        balance -= principal_payment\n",
    "\n",
    "        if balance < 0:\n",
    "            principal_payment += balance  # Adjust last principal payment\n",
    "            balance = 0\n",
    "        \n",
    "        equity = total_asset_value - balance\n",
    "        data.append([month // 12, month % 12 + 1, balance, equity, interest_payment, principal_payment])\n",
    "        month += 1\n",
    "    \n",
    "    df = pd.DataFrame(data, columns=['Year', 'Month', 'Remaining Balance', 'Total Equity', 'Interest Paid', 'Principal Paid'])\n",
    "    return df\n",
    "\n",
    "def mortgage_summary(df, total_debt):\n",
    "    total_interest_paid = df[\"Interest Paid\"].sum()\n",
    "    total_payments = total_interest_paid + total_debt\n",
    "    final_year = df.iloc[-1][\"Year\"]\n",
    "    final_month = df.iloc[-1][\"Month\"]\n",
    "    \n",
    "    summary = pd.DataFrame({\n",
    "        \"Years of Repayment\": [f\"Year {int(final_year)} Month {int(final_month)}\"],\n",
    "        \"Total Interest Paid\": [round(total_interest_paid, 2)],\n",
    "        \"Total Payments\": [round(total_payments, 2)]\n",
    "    })\n",
    "    return summary\n",
    "\n",
    "def get_equity_at_year_month(df, year, month):\n",
    "    result = df[(df['Year'] == year) & (df['Month'] == month)]\n",
    "    if result.empty:\n",
    "        return \"Invalid year or month provided.\"\n",
    "    return result[['Total Equity']]"
   ]
  },
  {
   "cell_type": "code",
   "execution_count": 78,
   "metadata": {},
   "outputs": [],
   "source": [
    "import pandas as pd\n",
    "import numpy as np\n",
    "\n",
    "# Define input values based on the image\n",
    "APR = 4.35  # Annual Percentage Rate in decimal\n",
    "monthly_repayment = 4400  # Monthly mortgage payment\n",
    "deposit = 100000  # Initial deposit\n",
    "total_asset_value = 520000  # Total asset value\n",
    "total_debt = total_asset_value - deposit\n",
    "monthly_rate = APR / 12  # Monthly interest rate"
   ]
  },
  {
   "cell_type": "code",
   "execution_count": 79,
   "metadata": {},
   "outputs": [],
   "source": [
    "df_ec = calculate_amortization_schedule(apr = APR, monthly_repayment = monthly_repayment, deposit = deposit, total_asset_value = total_asset_value)\n",
    "summary_ec = mortgage_summary(df_ec, total_debt)\n",
    "equity_year_5_ec = get_equity_at_year_month(df_ec, 5, 1)"
   ]
  },
  {
   "cell_type": "code",
   "execution_count": 80,
   "metadata": {},
   "outputs": [
    {
     "data": {
      "text/html": [
       "<div>\n",
       "<style scoped>\n",
       "    .dataframe tbody tr th:only-of-type {\n",
       "        vertical-align: middle;\n",
       "    }\n",
       "\n",
       "    .dataframe tbody tr th {\n",
       "        vertical-align: top;\n",
       "    }\n",
       "\n",
       "    .dataframe thead th {\n",
       "        text-align: right;\n",
       "    }\n",
       "</style>\n",
       "<table border=\"1\" class=\"dataframe\">\n",
       "  <thead>\n",
       "    <tr style=\"text-align: right;\">\n",
       "      <th></th>\n",
       "      <th>Years of Repayment</th>\n",
       "      <th>Total Interest Paid</th>\n",
       "      <th>Total Payments</th>\n",
       "    </tr>\n",
       "  </thead>\n",
       "  <tbody>\n",
       "    <tr>\n",
       "      <th>0</th>\n",
       "      <td>Year 9 Month 10</td>\n",
       "      <td>96412.49</td>\n",
       "      <td>516412.49</td>\n",
       "    </tr>\n",
       "  </tbody>\n",
       "</table>\n",
       "</div>"
      ],
      "text/plain": [
       "  Years of Repayment  Total Interest Paid  Total Payments\n",
       "0    Year 9 Month 10             96412.49       516412.49"
      ]
     },
     "execution_count": 80,
     "metadata": {},
     "output_type": "execute_result"
    }
   ],
   "source": [
    "summary_ec"
   ]
  },
  {
   "cell_type": "code",
   "execution_count": 81,
   "metadata": {},
   "outputs": [
    {
     "data": {
      "text/html": [
       "<div>\n",
       "<style scoped>\n",
       "    .dataframe tbody tr th:only-of-type {\n",
       "        vertical-align: middle;\n",
       "    }\n",
       "\n",
       "    .dataframe tbody tr th {\n",
       "        vertical-align: top;\n",
       "    }\n",
       "\n",
       "    .dataframe thead th {\n",
       "        text-align: right;\n",
       "    }\n",
       "</style>\n",
       "<table border=\"1\" class=\"dataframe\">\n",
       "  <thead>\n",
       "    <tr style=\"text-align: right;\">\n",
       "      <th></th>\n",
       "      <th>Total Equity</th>\n",
       "    </tr>\n",
       "  </thead>\n",
       "  <tbody>\n",
       "    <tr>\n",
       "      <th>60</th>\n",
       "      <td>296051.563925</td>\n",
       "    </tr>\n",
       "  </tbody>\n",
       "</table>\n",
       "</div>"
      ],
      "text/plain": [
       "     Total Equity\n",
       "60  296051.563925"
      ]
     },
     "execution_count": 81,
     "metadata": {},
     "output_type": "execute_result"
    }
   ],
   "source": [
    "equity_year_5_ec"
   ]
  },
  {
   "cell_type": "code",
   "execution_count": 82,
   "metadata": {},
   "outputs": [],
   "source": [
    "total_asset_value = 430000  # Total asset value\n",
    "df_borough = calculate_amortization_schedule(apr = APR, monthly_repayment = monthly_repayment, deposit = deposit, total_asset_value = total_asset_value)\n",
    "summary_borough = mortgage_summary(df_borough, total_debt)\n",
    "equity_year_5_borough = get_equity_at_year_month(df_borough, 5, 1)"
   ]
  },
  {
   "cell_type": "code",
   "execution_count": 83,
   "metadata": {},
   "outputs": [
    {
     "data": {
      "text/html": [
       "<div>\n",
       "<style scoped>\n",
       "    .dataframe tbody tr th:only-of-type {\n",
       "        vertical-align: middle;\n",
       "    }\n",
       "\n",
       "    .dataframe tbody tr th {\n",
       "        vertical-align: top;\n",
       "    }\n",
       "\n",
       "    .dataframe thead th {\n",
       "        text-align: right;\n",
       "    }\n",
       "</style>\n",
       "<table border=\"1\" class=\"dataframe\">\n",
       "  <thead>\n",
       "    <tr style=\"text-align: right;\">\n",
       "      <th></th>\n",
       "      <th>Years of Repayment</th>\n",
       "      <th>Total Interest Paid</th>\n",
       "      <th>Total Payments</th>\n",
       "    </tr>\n",
       "  </thead>\n",
       "  <tbody>\n",
       "    <tr>\n",
       "      <th>0</th>\n",
       "      <td>Year 7 Month 4</td>\n",
       "      <td>55814.68</td>\n",
       "      <td>475814.68</td>\n",
       "    </tr>\n",
       "  </tbody>\n",
       "</table>\n",
       "</div>"
      ],
      "text/plain": [
       "  Years of Repayment  Total Interest Paid  Total Payments\n",
       "0     Year 7 Month 4             55814.68       475814.68"
      ]
     },
     "execution_count": 83,
     "metadata": {},
     "output_type": "execute_result"
    }
   ],
   "source": [
    "summary_borough"
   ]
  },
  {
   "cell_type": "code",
   "execution_count": 84,
   "metadata": {},
   "outputs": [
    {
     "data": {
      "text/html": [
       "<div>\n",
       "<style scoped>\n",
       "    .dataframe tbody tr th:only-of-type {\n",
       "        vertical-align: middle;\n",
       "    }\n",
       "\n",
       "    .dataframe tbody tr th {\n",
       "        vertical-align: top;\n",
       "    }\n",
       "\n",
       "    .dataframe thead th {\n",
       "        text-align: right;\n",
       "    }\n",
       "</style>\n",
       "<table border=\"1\" class=\"dataframe\">\n",
       "  <thead>\n",
       "    <tr style=\"text-align: right;\">\n",
       "      <th></th>\n",
       "      <th>Total Equity</th>\n",
       "    </tr>\n",
       "  </thead>\n",
       "  <tbody>\n",
       "    <tr>\n",
       "      <th>60</th>\n",
       "      <td>318279.825516</td>\n",
       "    </tr>\n",
       "  </tbody>\n",
       "</table>\n",
       "</div>"
      ],
      "text/plain": [
       "     Total Equity\n",
       "60  318279.825516"
      ]
     },
     "execution_count": 84,
     "metadata": {},
     "output_type": "execute_result"
    }
   ],
   "source": [
    "equity_year_5_borough"
   ]
  },
  {
   "cell_type": "code",
   "execution_count": 88,
   "metadata": {},
   "outputs": [
    {
     "data": {
      "text/html": [
       "<div>\n",
       "<style scoped>\n",
       "    .dataframe tbody tr th:only-of-type {\n",
       "        vertical-align: middle;\n",
       "    }\n",
       "\n",
       "    .dataframe tbody tr th {\n",
       "        vertical-align: top;\n",
       "    }\n",
       "\n",
       "    .dataframe thead th {\n",
       "        text-align: right;\n",
       "    }\n",
       "</style>\n",
       "<table border=\"1\" class=\"dataframe\">\n",
       "  <thead>\n",
       "    <tr style=\"text-align: right;\">\n",
       "      <th></th>\n",
       "      <th>Total Equity</th>\n",
       "    </tr>\n",
       "  </thead>\n",
       "  <tbody>\n",
       "    <tr>\n",
       "      <th>60</th>\n",
       "      <td>22228.261592</td>\n",
       "    </tr>\n",
       "  </tbody>\n",
       "</table>\n",
       "</div>"
      ],
      "text/plain": [
       "    Total Equity\n",
       "60  22228.261592"
      ]
     },
     "execution_count": 88,
     "metadata": {},
     "output_type": "execute_result"
    }
   ],
   "source": [
    "equity_year_5_borough - equity_year_5_ec"
   ]
  },
  {
   "cell_type": "code",
   "execution_count": 89,
   "metadata": {},
   "outputs": [
    {
     "data": {
      "text/plain": [
       "0    40597.81\n",
       "Name: Total Interest Paid, dtype: float64"
      ]
     },
     "execution_count": 89,
     "metadata": {},
     "output_type": "execute_result"
    }
   ],
   "source": [
    "summary_ec['Total Interest Paid'] - summary_borough['Total Interest Paid']"
   ]
  },
  {
   "cell_type": "code",
   "execution_count": 91,
   "metadata": {},
   "outputs": [
    {
     "name": "stderr",
     "output_type": "stream",
     "text": [
      "2025-02-18 22:30:28.828 \n",
      "  \u001b[33m\u001b[1mWarning:\u001b[0m to view this Streamlit app on a browser, run it with the following\n",
      "  command:\n",
      "\n",
      "    streamlit run c:\\Users\\andre\\anaconda3\\Lib\\site-packages\\ipykernel_launcher.py [ARGUMENTS]\n",
      "2025-02-18 22:30:28.844 Session state does not function when running a script without `streamlit run`\n"
     ]
    }
   ],
   "source": [
    "import streamlit as st\n",
    "\n",
    "# Streamlit UI\n",
    "def main():\n",
    "    st.title(\"Mortgage Calculator\")\n",
    "    \n",
    "    # User inputs\n",
    "    apr = st.number_input(\"Annual Percentage Rate (APR) %\", min_value=0.1, value=4.35)\n",
    "    monthly_repayment = st.number_input(\"Monthly Repayment\", min_value=1, value=4400)\n",
    "    deposit = st.number_input(\"Deposit\", min_value=0, value=100000)\n",
    "    total_asset_value = st.number_input(\"Total Asset Value\", min_value=1, value=520000)\n",
    "    \n",
    "    if st.button(\"Calculate Mortgage\"):\n",
    "        df = calculate_amortization_schedule(apr, monthly_repayment, deposit, total_asset_value)\n",
    "        summary = mortgage_summary(df, total_asset_value - deposit)\n",
    "        \n",
    "        st.subheader(\"Mortgage Summary\")\n",
    "        st.dataframe(summary)\n",
    "        \n",
    "        st.subheader(\"Amortization Schedule\")\n",
    "        st.dataframe(df)\n",
    "        \n",
    "        # Equity lookup\n",
    "        st.subheader(\"Retrieve Equity at Specific Time\")\n",
    "        year_equity = st.number_input(\"Year\", min_value=0, value=5)\n",
    "        month_equity = st.number_input(\"Month\", min_value=1, max_value=12, value=6)\n",
    "        if st.button(\"Get Equity\"):\n",
    "            equity = get_equity_at_year_month(df, year_equity, month_equity)\n",
    "            st.write(equity)\n",
    "\n",
    "if __name__ == \"__main__\":\n",
    "    main()"
   ]
  },
  {
   "cell_type": "code",
   "execution_count": null,
   "metadata": {},
   "outputs": [],
   "source": [
    "!streamlit run C:\\Users\\andre\\OneDrive\\Documents\\mortgage_calculator_streamlit.py"
   ]
  },
  {
   "cell_type": "code",
   "execution_count": null,
   "metadata": {},
   "outputs": [],
   "source": []
  }
 ],
 "metadata": {
  "kernelspec": {
   "display_name": "base",
   "language": "python",
   "name": "python3"
  },
  "language_info": {
   "codemirror_mode": {
    "name": "ipython",
    "version": 3
   },
   "file_extension": ".py",
   "mimetype": "text/x-python",
   "name": "python",
   "nbconvert_exporter": "python",
   "pygments_lexer": "ipython3",
   "version": "3.12.7"
  }
 },
 "nbformat": 4,
 "nbformat_minor": 2
}
